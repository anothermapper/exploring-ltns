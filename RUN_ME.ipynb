{
 "cells": [
  {
   "cell_type": "code",
   "execution_count": 1,
   "source": [
    "# !pip install -r requirements.txt"
   ],
   "outputs": [],
   "metadata": {}
  },
  {
   "cell_type": "code",
   "execution_count": 2,
   "source": [
    "# Add the `src` dir to the search path, so that modules can be imported from there\r\n",
    "import sys\r\n",
    "from pathlib import Path\r\n",
    "\r\n",
    "if not \"src\" in sys.path[1][-3:]:\r\n",
    "    _src = str(Path(sys.path[0]).joinpath(\"src\"))\r\n",
    "    sys.path.insert(1, _src)\r\n",
    "# Other third party imports\r\n",
    "from icecream import ic\r\n",
    "\r\n",
    "# Import modules from `src`\r\n",
    "import set_parameters as params"
   ],
   "outputs": [],
   "metadata": {}
  },
  {
   "cell_type": "markdown",
   "source": [
    "# Select the Area of Interest"
   ],
   "metadata": {}
  },
  {
   "cell_type": "code",
   "execution_count": 3,
   "source": [
    "import ordnancesurvey_data as os_data\r\n",
    "# Options as \"Gosforth\" or \"Oxford\"\r\n",
    "city = params.locality[\"Gosforth\"]\r\n",
    "\r\n",
    "# Download ward boundaries from Ordnance Survey\r\n",
    "# Use this to create an Area of Interest GeoDF.\r\n",
    "# A smaller AOI can be used for testing purposes\r\n",
    "os_data.download_boundaries_file()\r\n",
    "os_data.create_aoi_from_boundaries_file(city)\r\n",
    "aoi_gdf = os_data.open_aoi()\r\n"
   ],
   "outputs": [
    {
     "output_type": "stream",
     "name": "stderr",
     "text": [
      "ic| city['city_name']: 'NEWCASTLE_UPON_TYNE_DISTRICT_(B)'\n",
      "ic| len(aoi_wards_gdf): 26\n",
      "ic| len(aoi_wards_gdf): 6\n"
     ]
    }
   ],
   "metadata": {}
  },
  {
   "cell_type": "code",
   "execution_count": 5,
   "source": [
    "ic(aoi_gdf.total_bounds)"
   ],
   "outputs": [
    {
     "output_type": "stream",
     "name": "stderr",
     "text": [
      "ic| aoi_gdf.total_bounds: array([421282.5236, 565999.0039, 427146.0969, 571945.8017])\n"
     ]
    },
    {
     "output_type": "execute_result",
     "data": {
      "text/plain": [
       "array([421282.5236, 565999.0039, 427146.0969, 571945.8017])"
      ]
     },
     "metadata": {},
     "execution_count": 5
    }
   ],
   "metadata": {}
  },
  {
   "cell_type": "markdown",
   "source": [
    "# Obtain the data"
   ],
   "metadata": {}
  },
  {
   "cell_type": "code",
   "execution_count": 4,
   "source": [
    "import download_utils as du\r\n",
    "from openstreetmap_data import download_latest_osm_file\r\n",
    "\r\n",
    "# Download OSM data for routing\r\n",
    "download_latest_osm_file(city[\"osm_fname\"], city[\"nation\"])\r\n",
    "\r\n",
    "bbox = get_bounding_box_lat_long\r\n",
    "\r\n",
    "\r\n"
   ],
   "outputs": [
    {
     "output_type": "stream",
     "name": "stderr",
     "text": [
      "ic| 'Remote files is different to localfile, downloading update.'\n",
      "ic| response: <Response [200]>\n"
     ]
    }
   ],
   "metadata": {}
  }
 ],
 "metadata": {
  "orig_nbformat": 4,
  "language_info": {
   "name": "python",
   "version": "3.9.5",
   "mimetype": "text/x-python",
   "codemirror_mode": {
    "name": "ipython",
    "version": 3
   },
   "pygments_lexer": "ipython3",
   "nbconvert_exporter": "python",
   "file_extension": ".py"
  },
  "kernelspec": {
   "name": "python3",
   "display_name": "Python 3.9.5 64-bit ('env39': venv)"
  },
  "interpreter": {
   "hash": "4c8f17387fbe8c7287bbe19cc3cccd9390a6f55a076ebb6fd4de774d1e88578d"
  }
 },
 "nbformat": 4,
 "nbformat_minor": 2
}