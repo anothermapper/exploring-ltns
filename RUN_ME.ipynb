{
 "cells": [
  {
   "cell_type": "markdown",
   "source": [
    "# Setup and init"
   ],
   "metadata": {}
  },
  {
   "cell_type": "code",
   "execution_count": null,
   "source": [
    "# !pip install -r requirements.txt"
   ],
   "outputs": [],
   "metadata": {}
  },
  {
   "cell_type": "code",
   "execution_count": null,
   "source": [
    "# Add the `src` dir to the search path, so that modules can be imported from there\n",
    "import sys\n",
    "from pathlib import Path\n",
    "\n",
    "if not \"src\" in sys.path[1][-3:]:\n",
    "    _src = str(Path(sys.path[0]).joinpath(\"src\"))\n",
    "    sys.path.insert(1, _src)\n",
    "# Other third party imports\n",
    "from icecream import ic"
   ],
   "outputs": [],
   "metadata": {}
  },
  {
   "cell_type": "markdown",
   "source": [
    "# Select the Area of Interest\r\n",
    "\r\n",
    "Select an area of interest, from the options in the parmeter set, and then generate an AOI GeoDF by selection the relevant wards.\r\n",
    "(For testing purposes different city and AOI GeoDFs can be used)"
   ],
   "metadata": {}
  },
  {
   "cell_type": "code",
   "execution_count": null,
   "source": [
    "import set_parameters as params\n",
    "import ordnancesurvey_data as os_data\n",
    "\n",
    "# Options as \"Gosforth\" or \"Oxford\"\n",
    "city = params.locality[\"Gosforth\"]\n",
    "\n",
    "# Download ward boundaries from Ordnance Survey\n",
    "# Use this to create an Area of Interest GeoDF.\n",
    "# A smaller AOI can be used for testing purposes\n",
    "os_data.download_boundaries_file()\n",
    "# os_data.create_aoi_from_boundaries_file(city)\n",
    "aoi_gdf = os_data.open_aoi()"
   ],
   "outputs": [],
   "metadata": {}
  },
  {
   "cell_type": "markdown",
   "source": [
    "# Obtain the data\r\n",
    "\r\n",
    "This section downloads the data required for the analtsis. Where possible it will check for updates and only download if new data is available.\r\n",
    "In general the data is organised:\r\n",
    "* Raw, unaltered data is saved in the `download_dir` directory.\r\n",
    "* Unpacked and suitably transformed data is saved in the `data_dir` directory."
   ],
   "metadata": {}
  },
  {
   "cell_type": "code",
   "execution_count": null,
   "source": [
    "import openstreetmap_data as osm\n",
    "\n",
    "# Download OSM data for routing\n",
    "osm.download_latest_osm_file(city)\n",
    "# Download residential landuse\n",
    "osm.download_landuse(aoi_gdf)\n",
    "# Download the node (as points) of all the streets\n",
    "osm.download_street_nodes(aoi_gdf)\n",
    "# Download the address points locations\n",
    "os_data.download_address_point_file()\n",
    "os_data.create_address_aoi(aoi_gdf)"
   ],
   "outputs": [],
   "metadata": {}
  },
  {
   "cell_type": "markdown",
   "source": [
    "# Configure the Routing Engine\r\n",
    "This uses the Open Street Routing Machine, to generate routes. This is run using docker, though all of the docker commands are encapsulated in the RoutingEngine class."
   ],
   "metadata": {}
  },
  {
   "cell_type": "code",
   "execution_count": null,
   "source": [
    "from docker_utils import RoutingEngine\n",
    "\n",
    "reng = RoutingEngine(params.transport_params, city)\n",
    "reng.preprocess_routing_data()"
   ],
   "outputs": [],
   "metadata": {}
  }
 ],
 "metadata": {
  "orig_nbformat": 4,
  "language_info": {
   "name": "python",
   "version": "3.9.5",
   "mimetype": "text/x-python",
   "codemirror_mode": {
    "name": "ipython",
    "version": 3
   },
   "pygments_lexer": "ipython3",
   "nbconvert_exporter": "python",
   "file_extension": ".py"
  },
  "kernelspec": {
   "name": "python3",
   "display_name": "Python 3.9.5 64-bit ('env39': venv)"
  },
  "interpreter": {
   "hash": "4c8f17387fbe8c7287bbe19cc3cccd9390a6f55a076ebb6fd4de774d1e88578d"
  }
 },
 "nbformat": 4,
 "nbformat_minor": 2
}
